{
  "nbformat": 4,
  "nbformat_minor": 0,
  "metadata": {
    "colab": {
      "provenance": [],
      "authorship_tag": "ABX9TyN891/WwIwD35g3iKydEnN2",
      "include_colab_link": true
    },
    "kernelspec": {
      "name": "python3",
      "display_name": "Python 3"
    },
    "language_info": {
      "name": "python"
    }
  },
  "cells": [
    {
      "cell_type": "markdown",
      "metadata": {
        "id": "view-in-github",
        "colab_type": "text"
      },
      "source": [
        "<a href=\"https://colab.research.google.com/github/Maypulido/colab/blob/main/Prueba_Xpecta_DataLab.ipynb\" target=\"_parent\"><img src=\"https://colab.research.google.com/assets/colab-badge.svg\" alt=\"Open In Colab\"/></a>"
      ]
    },
    {
      "cell_type": "code",
      "execution_count": null,
      "metadata": {
        "id": "_VXGMdcJxrEZ"
      },
      "outputs": [],
      "source": [
        "import pandas as pd\n",
        "import matplotlib.pyplot as plt\n",
        "import seaborn as sns"
      ]
    },
    {
      "cell_type": "code",
      "source": [
        "from google.colab import files\n",
        "uploaded = files.upload()"
      ],
      "metadata": {
        "colab": {
          "base_uri": "https://localhost:8080/",
          "height": 71
        },
        "id": "QOur5qTJxy7y",
        "outputId": "b9077d6b-d882-4196-e435-564461f03799"
      },
      "execution_count": null,
      "outputs": [
        {
          "output_type": "display_data",
          "data": {
            "text/plain": [
              "<IPython.core.display.HTML object>"
            ],
            "text/html": [
              "\n",
              "     <input type=\"file\" id=\"files-f2ad311d-b00f-49fb-ac08-1f734d82258b\" name=\"files[]\" multiple disabled\n",
              "        style=\"border:none\" />\n",
              "     <output id=\"result-f2ad311d-b00f-49fb-ac08-1f734d82258b\">\n",
              "      Upload widget is only available when the cell has been executed in the\n",
              "      current browser session. Please rerun this cell to enable.\n",
              "      </output>\n",
              "      <script>// Copyright 2017 Google LLC\n",
              "//\n",
              "// Licensed under the Apache License, Version 2.0 (the \"License\");\n",
              "// you may not use this file except in compliance with the License.\n",
              "// You may obtain a copy of the License at\n",
              "//\n",
              "//      http://www.apache.org/licenses/LICENSE-2.0\n",
              "//\n",
              "// Unless required by applicable law or agreed to in writing, software\n",
              "// distributed under the License is distributed on an \"AS IS\" BASIS,\n",
              "// WITHOUT WARRANTIES OR CONDITIONS OF ANY KIND, either express or implied.\n",
              "// See the License for the specific language governing permissions and\n",
              "// limitations under the License.\n",
              "\n",
              "/**\n",
              " * @fileoverview Helpers for google.colab Python module.\n",
              " */\n",
              "(function(scope) {\n",
              "function span(text, styleAttributes = {}) {\n",
              "  const element = document.createElement('span');\n",
              "  element.textContent = text;\n",
              "  for (const key of Object.keys(styleAttributes)) {\n",
              "    element.style[key] = styleAttributes[key];\n",
              "  }\n",
              "  return element;\n",
              "}\n",
              "\n",
              "// Max number of bytes which will be uploaded at a time.\n",
              "const MAX_PAYLOAD_SIZE = 100 * 1024;\n",
              "\n",
              "function _uploadFiles(inputId, outputId) {\n",
              "  const steps = uploadFilesStep(inputId, outputId);\n",
              "  const outputElement = document.getElementById(outputId);\n",
              "  // Cache steps on the outputElement to make it available for the next call\n",
              "  // to uploadFilesContinue from Python.\n",
              "  outputElement.steps = steps;\n",
              "\n",
              "  return _uploadFilesContinue(outputId);\n",
              "}\n",
              "\n",
              "// This is roughly an async generator (not supported in the browser yet),\n",
              "// where there are multiple asynchronous steps and the Python side is going\n",
              "// to poll for completion of each step.\n",
              "// This uses a Promise to block the python side on completion of each step,\n",
              "// then passes the result of the previous step as the input to the next step.\n",
              "function _uploadFilesContinue(outputId) {\n",
              "  const outputElement = document.getElementById(outputId);\n",
              "  const steps = outputElement.steps;\n",
              "\n",
              "  const next = steps.next(outputElement.lastPromiseValue);\n",
              "  return Promise.resolve(next.value.promise).then((value) => {\n",
              "    // Cache the last promise value to make it available to the next\n",
              "    // step of the generator.\n",
              "    outputElement.lastPromiseValue = value;\n",
              "    return next.value.response;\n",
              "  });\n",
              "}\n",
              "\n",
              "/**\n",
              " * Generator function which is called between each async step of the upload\n",
              " * process.\n",
              " * @param {string} inputId Element ID of the input file picker element.\n",
              " * @param {string} outputId Element ID of the output display.\n",
              " * @return {!Iterable<!Object>} Iterable of next steps.\n",
              " */\n",
              "function* uploadFilesStep(inputId, outputId) {\n",
              "  const inputElement = document.getElementById(inputId);\n",
              "  inputElement.disabled = false;\n",
              "\n",
              "  const outputElement = document.getElementById(outputId);\n",
              "  outputElement.innerHTML = '';\n",
              "\n",
              "  const pickedPromise = new Promise((resolve) => {\n",
              "    inputElement.addEventListener('change', (e) => {\n",
              "      resolve(e.target.files);\n",
              "    });\n",
              "  });\n",
              "\n",
              "  const cancel = document.createElement('button');\n",
              "  inputElement.parentElement.appendChild(cancel);\n",
              "  cancel.textContent = 'Cancel upload';\n",
              "  const cancelPromise = new Promise((resolve) => {\n",
              "    cancel.onclick = () => {\n",
              "      resolve(null);\n",
              "    };\n",
              "  });\n",
              "\n",
              "  // Wait for the user to pick the files.\n",
              "  const files = yield {\n",
              "    promise: Promise.race([pickedPromise, cancelPromise]),\n",
              "    response: {\n",
              "      action: 'starting',\n",
              "    }\n",
              "  };\n",
              "\n",
              "  cancel.remove();\n",
              "\n",
              "  // Disable the input element since further picks are not allowed.\n",
              "  inputElement.disabled = true;\n",
              "\n",
              "  if (!files) {\n",
              "    return {\n",
              "      response: {\n",
              "        action: 'complete',\n",
              "      }\n",
              "    };\n",
              "  }\n",
              "\n",
              "  for (const file of files) {\n",
              "    const li = document.createElement('li');\n",
              "    li.append(span(file.name, {fontWeight: 'bold'}));\n",
              "    li.append(span(\n",
              "        `(${file.type || 'n/a'}) - ${file.size} bytes, ` +\n",
              "        `last modified: ${\n",
              "            file.lastModifiedDate ? file.lastModifiedDate.toLocaleDateString() :\n",
              "                                    'n/a'} - `));\n",
              "    const percent = span('0% done');\n",
              "    li.appendChild(percent);\n",
              "\n",
              "    outputElement.appendChild(li);\n",
              "\n",
              "    const fileDataPromise = new Promise((resolve) => {\n",
              "      const reader = new FileReader();\n",
              "      reader.onload = (e) => {\n",
              "        resolve(e.target.result);\n",
              "      };\n",
              "      reader.readAsArrayBuffer(file);\n",
              "    });\n",
              "    // Wait for the data to be ready.\n",
              "    let fileData = yield {\n",
              "      promise: fileDataPromise,\n",
              "      response: {\n",
              "        action: 'continue',\n",
              "      }\n",
              "    };\n",
              "\n",
              "    // Use a chunked sending to avoid message size limits. See b/62115660.\n",
              "    let position = 0;\n",
              "    do {\n",
              "      const length = Math.min(fileData.byteLength - position, MAX_PAYLOAD_SIZE);\n",
              "      const chunk = new Uint8Array(fileData, position, length);\n",
              "      position += length;\n",
              "\n",
              "      const base64 = btoa(String.fromCharCode.apply(null, chunk));\n",
              "      yield {\n",
              "        response: {\n",
              "          action: 'append',\n",
              "          file: file.name,\n",
              "          data: base64,\n",
              "        },\n",
              "      };\n",
              "\n",
              "      let percentDone = fileData.byteLength === 0 ?\n",
              "          100 :\n",
              "          Math.round((position / fileData.byteLength) * 100);\n",
              "      percent.textContent = `${percentDone}% done`;\n",
              "\n",
              "    } while (position < fileData.byteLength);\n",
              "  }\n",
              "\n",
              "  // All done.\n",
              "  yield {\n",
              "    response: {\n",
              "      action: 'complete',\n",
              "    }\n",
              "  };\n",
              "}\n",
              "\n",
              "scope.google = scope.google || {};\n",
              "scope.google.colab = scope.google.colab || {};\n",
              "scope.google.colab._files = {\n",
              "  _uploadFiles,\n",
              "  _uploadFilesContinue,\n",
              "};\n",
              "})(self);\n",
              "</script> "
            ]
          },
          "metadata": {}
        },
        {
          "output_type": "stream",
          "name": "stdout",
          "text": [
            "Saving Dataset prueba HV (1).csv to Dataset prueba HV (1).csv\n"
          ]
        }
      ]
    },
    {
      "cell_type": "code",
      "source": [
        "df = pd.read_csv(\"Dataset prueba HV (1).csv\", sep= \";\")"
      ],
      "metadata": {
        "id": "7uifvSWZx4ZM"
      },
      "execution_count": null,
      "outputs": []
    },
    {
      "cell_type": "code",
      "source": [
        "print(df.head())"
      ],
      "metadata": {
        "colab": {
          "base_uri": "https://localhost:8080/"
        },
        "id": "xNtm4QoQx6cV",
        "outputId": "56c24fcb-a06f-409d-c5ea-4146382c33ba"
      },
      "execution_count": null,
      "outputs": [
        {
          "output_type": "stream",
          "name": "stdout",
          "text": [
            "   ﻿Codigo  IDSalesForce  IDPredioControlG        PuntoEnvioID      Fecha  \\\n",
            "0    80114        947681             75355  0014y00002ZLneQAAT  1/05/2022   \n",
            "1    80115        947683             51364  0018X000034zBpHQAU  1/05/2022   \n",
            "2    80115        947683             51364  0018X000034zBpHQAU  1/05/2022   \n",
            "3    80116        947684             33516  0014y00002GmXDnAAN  1/05/2022   \n",
            "4    80117        947685             33516  0014y00002JLHPrAAP  1/05/2022   \n",
            "\n",
            "  FormaPago  TipoCilindro  PrecioCilindro  Subsidio  Descuento   Total  \\\n",
            "0   CONTADO   CL DE 45 KG          170000         0          0  170000   \n",
            "1   CONTADO   CL DE 15 KG               0         0          0       0   \n",
            "2   CONTADO  CL  DE 18 KG               0         0          0       0   \n",
            "3   CONTADO   CL DE 45 KG          153000         0          0  153000   \n",
            "4   CONTADO  CL  DE 18 KG           84000         0          0   84000   \n",
            "\n",
            "   Cantidad         ListaPrecio   Latitud   Longitud  Municipio  IdAliado  \n",
            "0         1           COMERCIAL  5.006939 -74.473635    VILLETA  77718027  \n",
            "1        79  TRASLADOS/CONVENIO  7.997041 -73.512274  AGUACHICA  94111095  \n",
            "2        70  TRASLADOS/CONVENIO  7.997041 -73.512274  AGUACHICA  94111095  \n",
            "3         1       USUARIO FINAL  4.810799 -73.631479    GACHETA  12519329  \n",
            "4         1       USUARIO FINAL  4.810791 -73.631488    GACHETA  12519329  \n"
          ]
        }
      ]
    },
    {
      "cell_type": "code",
      "source": [
        "print(df.info())"
      ],
      "metadata": {
        "colab": {
          "base_uri": "https://localhost:8080/"
        },
        "id": "OIsHj5_Zx764",
        "outputId": "ddfa274f-18d9-4efb-93c5-6481afe7bd5a"
      },
      "execution_count": null,
      "outputs": [
        {
          "output_type": "stream",
          "name": "stdout",
          "text": [
            "<class 'pandas.core.frame.DataFrame'>\n",
            "RangeIndex: 15389 entries, 0 to 15388\n",
            "Data columns (total 17 columns):\n",
            " #   Column            Non-Null Count  Dtype  \n",
            "---  ------            --------------  -----  \n",
            " 0   ﻿Codigo           15389 non-null  int64  \n",
            " 1   IDSalesForce      15389 non-null  int64  \n",
            " 2   IDPredioControlG  15389 non-null  int64  \n",
            " 3   PuntoEnvioID      15282 non-null  object \n",
            " 4   Fecha             15389 non-null  object \n",
            " 5   FormaPago         15389 non-null  object \n",
            " 6   TipoCilindro      15389 non-null  object \n",
            " 7   PrecioCilindro    15389 non-null  int64  \n",
            " 8   Subsidio          15389 non-null  int64  \n",
            " 9   Descuento         15389 non-null  int64  \n",
            " 10  Total             15389 non-null  int64  \n",
            " 11  Cantidad          15389 non-null  int64  \n",
            " 12  ListaPrecio       15389 non-null  object \n",
            " 13  Latitud           15389 non-null  float64\n",
            " 14  Longitud          15389 non-null  float64\n",
            " 15  Municipio         15389 non-null  object \n",
            " 16  IdAliado          15389 non-null  int64  \n",
            "dtypes: float64(2), int64(9), object(6)\n",
            "memory usage: 2.0+ MB\n",
            "None\n"
          ]
        }
      ]
    },
    {
      "cell_type": "code",
      "source": [
        "print(df.describe())"
      ],
      "metadata": {
        "colab": {
          "base_uri": "https://localhost:8080/"
        },
        "id": "-RJmkqbsx-Jc",
        "outputId": "69256a28-55b0-4eee-a118-46f061cd3dfb"
      },
      "execution_count": null,
      "outputs": [
        {
          "output_type": "stream",
          "name": "stdout",
          "text": [
            "            ﻿Codigo   IDSalesForce  IDPredioControlG  PrecioCilindro  \\\n",
            "count  15389.000000   15389.000000      15389.000000    15389.000000   \n",
            "mean   86304.642927  957966.049256      65892.182208    65803.508480   \n",
            "std     3549.865854    5743.062544      19339.067168    53424.215763   \n",
            "min    80114.000000  947537.000000        482.000000    -1510.000000   \n",
            "25%    83236.000000  953026.000000      54244.000000    10000.000000   \n",
            "50%    86307.000000  957937.000000      69558.000000    67446.000000   \n",
            "75%    89366.000000  963004.000000      81500.000000    79000.000000   \n",
            "max    92437.000000  968789.000000      91464.000000   232000.000000   \n",
            "\n",
            "       Subsidio  Descuento         Total      Cantidad       Latitud  \\\n",
            "count   15389.0    15389.0  1.538900e+04  15389.000000  15389.000000   \n",
            "mean        0.0        0.0  3.280101e+05      8.317629      5.299489   \n",
            "std         0.0        0.0  9.090404e+05     19.155557      2.458732   \n",
            "min         0.0        0.0 -4.902000e+04      1.000000      0.430502   \n",
            "25%         0.0        0.0  1.600000e+04      1.000000      3.546003   \n",
            "50%         0.0        0.0  9.405000e+04      2.000000      4.879391   \n",
            "75%         0.0        0.0  2.890000e+05      7.000000      6.559659   \n",
            "max         0.0        0.0  2.641000e+07    465.000000     11.251353   \n",
            "\n",
            "           Longitud      IdAliado  \n",
            "count  15389.000000  1.538900e+04  \n",
            "mean     -75.105634  4.629978e+07  \n",
            "std        1.270439  2.797667e+07  \n",
            "min      -77.065980  2.207250e+06  \n",
            "25%      -76.301102  2.311105e+07  \n",
            "50%      -75.458129  4.167169e+07  \n",
            "75%      -74.138658  6.722287e+07  \n",
            "max      -72.078851  9.891105e+07  \n"
          ]
        }
      ]
    },
    {
      "cell_type": "code",
      "source": [
        "ventas_por_tipo_cilindro = df.groupby('TipoCilindro')['Total'].sum()"
      ],
      "metadata": {
        "id": "lnoLhrX8x_-A"
      },
      "execution_count": null,
      "outputs": []
    },
    {
      "cell_type": "code",
      "source": [
        "ventas_por_tipo_cilindro"
      ],
      "metadata": {
        "colab": {
          "base_uri": "https://localhost:8080/"
        },
        "id": "G4PifOsByiiU",
        "outputId": "eda0497f-1c8e-403c-bfc8-70a3d075b6f2"
      },
      "execution_count": null,
      "outputs": [
        {
          "output_type": "execute_result",
          "data": {
            "text/plain": [
              "TipoCilindro\n",
              "CL  DE 18 KG    2282784656\n",
              "CL DE 10 KG         256883\n",
              "CL DE 15 KG     1676757867\n",
              "CL DE 35 KG         153000\n",
              "CL DE 4.5 KG       4400644\n",
              "CL DE 45 KG     1038509458\n",
              "CL DE 9 KG        44885644\n",
              "Name: Total, dtype: int64"
            ]
          },
          "metadata": {},
          "execution_count": 8
        }
      ]
    },
    {
      "cell_type": "code",
      "source": [
        "total_ventas = ventas_por_tipo_cilindro.sum()\n",
        "porcentaje_ventas_por_tipo_cilindro = (ventas_por_tipo_cilindro / total_ventas) * 100"
      ],
      "metadata": {
        "id": "S_sP8oaiylaV"
      },
      "execution_count": null,
      "outputs": []
    },
    {
      "cell_type": "code",
      "source": [
        "plt.figure(figsize=(8, 6))\n",
        "porcentaje_ventas_por_tipo_cilindro.plot(kind='pie', autopct='%1.1f%%')\n",
        "plt.title('Porcentaje de ventas por tipo de cilindro')\n",
        "plt.ylabel('')\n",
        "plt.show()"
      ],
      "metadata": {
        "colab": {
          "base_uri": "https://localhost:8080/",
          "height": 521
        },
        "id": "hZyUADMmy8B_",
        "outputId": "136502d6-9645-4c5f-c591-038e49386da2"
      },
      "execution_count": null,
      "outputs": [
        {
          "output_type": "display_data",
          "data": {
            "text/plain": [
              "<Figure size 800x600 with 1 Axes>"
            ],
            "image/png": "[encoded data removed]"
          },
          "metadata": {}
        }
      ]
    },
    {
      "cell_type": "code",
      "source": [
        "df_total_cero = df[df['Total'] == 0]\n",
        "items_total_cero = df_total_cero.groupby('TipoCilindro')['Cantidad'].sum()\n",
        "items_total = df.groupby('TipoCilindro')['Cantidad'].sum()\n",
        "porcentaje_items_total_cero = (items_total_cero / items_total) * 100\n"
      ],
      "metadata": {
        "id": "ocx_BNb3zAfP"
      },
      "execution_count": null,
      "outputs": []
    },
    {
      "cell_type": "code",
      "source": [
        "items_total_cero"
      ],
      "metadata": {
        "colab": {
          "base_uri": "https://localhost:8080/"
        },
        "id": "fsY7deD3Ch2I",
        "outputId": "1f0a81f4-408a-42b4-ff4f-4e4bea5b6c00"
      },
      "execution_count": null,
      "outputs": [
        {
          "output_type": "execute_result",
          "data": {
            "text/plain": [
              "TipoCilindro\n",
              "CL  DE 18 KG    40479\n",
              "CL DE 15 KG     17945\n",
              "CL DE 35 KG         2\n",
              "CL DE 4.5 KG      179\n",
              "CL DE 45 KG      3741\n",
              "CL DE 9 KG        357\n",
              "Name: Cantidad, dtype: int64"
            ]
          },
          "metadata": {},
          "execution_count": 65
        }
      ]
    },
    {
      "cell_type": "code",
      "source": [
        "plt.figure(figsize=(10, 6))\n",
        "porcentaje_items_total_cero.plot(kind='bar')\n",
        "plt.title('Porcentaje de items con Total de 0 por Tipo de Cilindro')\n",
        "plt.ylabel('Porcentaje')\n",
        "plt.xlabel('Tipo de Cilindro')\n",
        "plt.show()\n"
      ],
      "metadata": {
        "colab": {
          "base_uri": "https://localhost:8080/",
          "height": 642
        },
        "id": "MIrNDF0AzEJk",
        "outputId": "2cc8ccd7-2020-4c82-c655-a4117f790726"
      },
      "execution_count": null,
      "outputs": [
        {
          "output_type": "display_data",
          "data": {
            "text/plain": [
              "<Figure size 1000x600 with 1 Axes>"
            ],
            "image/png": "[encoded data removed]"
          },
          "metadata": {}
        }
      ]
    },
    {
      "cell_type": "code",
      "source": [
        "precio_por_municipio = df.groupby(['Municipio', 'TipoCilindro'])['PrecioCilindro'].mean().reset_index()"
      ],
      "metadata": {
        "id": "wagljZE5zHhc"
      },
      "execution_count": null,
      "outputs": []
    },
    {
      "cell_type": "code",
      "source": [
        "print(precio_por_municipio)"
      ],
      "metadata": {
        "colab": {
          "base_uri": "https://localhost:8080/"
        },
        "id": "tsjj4FoszJrg",
        "outputId": "7a6e01b9-4f6e-4913-f63f-e4c05d080826"
      },
      "execution_count": null,
      "outputs": [
        {
          "output_type": "stream",
          "name": "stdout",
          "text": [
            "     Municipio  TipoCilindro  PrecioCilindro\n",
            "0    ABEJORRAL  CL  DE 18 KG         65000.0\n",
            "1    ABEJORRAL   CL DE 15 KG         54800.0\n",
            "2    ABEJORRAL   CL DE 45 KG        165500.0\n",
            "3    AGUACHICA  CL  DE 18 KG             0.0\n",
            "4    AGUACHICA   CL DE 15 KG             0.0\n",
            "..         ...           ...             ...\n",
            "653   ZARAGOZA  CL  DE 18 KG         68400.0\n",
            "654   ZARAGOZA   CL DE 45 KG        169860.0\n",
            "655     ZARZAL  CL  DE 18 KG             0.0\n",
            "656  ZIPAQUIRA  CL  DE 18 KG             0.0\n",
            "657  ZIPAQUIRA   CL DE 15 KG             0.0\n",
            "\n",
            "[658 rows x 3 columns]\n"
          ]
        }
      ]
    },
    {
      "cell_type": "code",
      "source": [
        "sns.countplot(x='TipoCilindro', data=df)\n",
        "plt.show()"
      ],
      "metadata": {
        "colab": {
          "base_uri": "https://localhost:8080/",
          "height": 449
        },
        "id": "_fZ3OrUvzOgN",
        "outputId": "9d30275e-4faa-4291-c238-66d7c3a55ea4"
      },
      "execution_count": null,
      "outputs": [
        {
          "output_type": "display_data",
          "data": {
            "text/plain": [
              "<Figure size 640x480 with 1 Axes>"
            ],
            "image/png": "[encoded data removed]"
          },
          "metadata": {}
        }
      ]
    },
    {
      "cell_type": "code",
      "source": [
        "cilindros_bajo_precio = df[(df['PrecioCilindro'] < 1000) & (df['PrecioCilindro'] != 0)]\n",
        "\n",
        "cilindros_bajo_precio = cilindros_bajo_precio[['TipoCilindro', 'Municipio','PrecioCilindro']]\n",
        "\n",
        "print(cilindros_bajo_precio)\n",
        "\n"
      ],
      "metadata": {
        "colab": {
          "base_uri": "https://localhost:8080/"
        },
        "id": "O20o5Crh082W",
        "outputId": "c4b83e5e-9f9b-417f-a143-ff5159f4be99"
      },
      "execution_count": null,
      "outputs": [
        {
          "output_type": "stream",
          "name": "stdout",
          "text": [
            "      TipoCilindro                Municipio  PrecioCilindro\n",
            "2892   CL DE 15 KG                   SAMANA            -570\n",
            "2893  CL  DE 18 KG                   SAMANA            -604\n",
            "2894   CL DE 45 KG                   SAMANA           -1510\n",
            "6489  CL  DE 18 KG  CALI (SANTIAGO DE CALI)               9\n",
            "9096  CL  DE 18 KG  CALI (SANTIAGO DE CALI)              25\n"
          ]
        }
      ]
    },
    {
      "cell_type": "code",
      "source": [
        "ventas_por_lista = df.groupby('ListaPrecio').agg({'Cantidad': 'count', 'Total': 'sum'})\n",
        "ventas_por_lista = ventas_por_lista.reset_index()\n",
        "print(ventas_por_lista)"
      ],
      "metadata": {
        "colab": {
          "base_uri": "https://localhost:8080/"
        },
        "id": "XPg9wLhv3D-0",
        "outputId": "c3c03409-f0ac-421f-94f7-25b9dde19b15"
      },
      "execution_count": null,
      "outputs": [
        {
          "output_type": "stream",
          "name": "stdout",
          "text": [
            "               ListaPrecio  Cantidad       Total\n",
            "0                COMERCIAL       943   208287989\n",
            "1  EXPENDIO/PUNTO DE VENTA      5521  3200491032\n",
            "2                SUBALIADO       244   339504935\n",
            "3       TRASLADOS/CONVENIO      4243   513368459\n",
            "4            USUARIO FINAL      4438   786095737\n"
          ]
        }
      ]
    },
    {
      "cell_type": "code",
      "source": [
        "pago_por_tipo_cilindro = df.groupby(['TipoCilindro', 'FormaPago']).agg({'Cantidad': 'count', 'Total': 'sum'})\n",
        "pago_por_tipo_cilindro = pago_por_tipo_cilindro.reset_index()\n",
        "print(pago_por_tipo_cilindro)\n"
      ],
      "metadata": {
        "colab": {
          "base_uri": "https://localhost:8080/"
        },
        "id": "lcdMaMCJ3Knq",
        "outputId": "5ef3fc2c-7970-43f5-b655-a448bec270a6"
      },
      "execution_count": null,
      "outputs": [
        {
          "output_type": "stream",
          "name": "stdout",
          "text": [
            "    TipoCilindro         FormaPago  Cantidad       Total\n",
            "0   CL  DE 18 KG           CONTADO      6279  2257475636\n",
            "1   CL  DE 18 KG           CRÉDITO      1104    25232274\n",
            "2   CL  DE 18 KG  CRÉDITO COMPAÑÍA         1       76746\n",
            "3    CL DE 10 KG           CONTADO         8      256883\n",
            "4    CL DE 15 KG           CONTADO      4593  1675960747\n",
            "5    CL DE 15 KG           CRÉDITO       272      797120\n",
            "6    CL DE 35 KG           CONTADO         3      153000\n",
            "7   CL DE 4.5 KG           CONTADO       160     4400644\n",
            "8    CL DE 45 KG           CONTADO      2476  1025576208\n",
            "9    CL DE 45 KG           CRÉDITO        67    12933250\n",
            "10   CL DE 45 KG  CRÉDITO COMPAÑÍA         1           0\n",
            "11    CL DE 9 KG           CONTADO       423    44885644\n",
            "12    CL DE 9 KG           CRÉDITO         2           0\n"
          ]
        }
      ]
    },
    {
      "cell_type": "code",
      "source": [
        "df['Fecha'] = pd.to_datetime(df['Fecha'])\n",
        "ventas_por_dia = df.groupby(df['Fecha'].dt.date).agg({'Cantidad': 'sum', 'Total': 'sum'}).reset_index()\n",
        "ventas_por_dia = ventas_por_dia.sort_values('Total', ascending=False)\n",
        "print(ventas_por_dia)\n"
      ],
      "metadata": {
        "colab": {
          "base_uri": "https://localhost:8080/"
        },
        "id": "e1Ohcu5i3zo_",
        "outputId": "e5c6dc05-3ce9-42b4-8dd1-b19632f431ed"
      },
      "execution_count": null,
      "outputs": [
        {
          "output_type": "stream",
          "name": "stdout",
          "text": [
            "         Fecha  Cantidad      Total\n",
            "23  2022-05-31     10154  502503015\n",
            "22  2022-05-30      5664  329523942\n",
            "17  2022-05-25      5305  243248724\n",
            "19  2022-05-27      7043  243147695\n",
            "12  2022-05-20      5363  214005107\n",
            "18  2022-05-26      5048  210206581\n",
            "16  2022-05-24      4768  205503555\n",
            "29  2022-11-05      5673  203838495\n",
            "5   2022-05-13      5468  195792469\n",
            "9   2022-05-17      4188  190436327\n",
            "15  2022-05-23      5252  188787024\n",
            "30  2022-12-05      4302  182334002\n",
            "13  2022-05-21      4516  181202673\n",
            "28  2022-10-05      4760  177002667\n",
            "6   2022-05-14      4509  176241309\n",
            "2   2022-03-05      5281  174999695\n",
            "3   2022-04-05      4270  161179940\n",
            "10  2022-05-18      4205  151137610\n",
            "8   2022-05-16      4813  149624263\n",
            "24  2022-06-05      3335  147802736\n",
            "27  2022-09-05      4077  144630151\n",
            "20  2022-05-28      4352  140277053\n",
            "11  2022-05-19      3976  126521683\n",
            "4   2022-05-05      3096   91587075\n",
            "25  2022-07-05      2319   89278470\n",
            "1   2022-02-05      2554   78165588\n",
            "14  2022-05-22       689   43986058\n",
            "7   2022-05-15      1354   38346205\n",
            "21  2022-05-29       599   35557284\n",
            "0   2022-01-05       873   16263486\n",
            "26  2022-08-05       194   14617270\n"
          ]
        }
      ]
    },
    {
      "cell_type": "code",
      "source": [
        "ventas_por_municipio = df.groupby('Municipio').agg({'Cantidad': 'sum', 'Total': 'sum'}).reset_index()\n",
        "ventas_por_municipio = ventas_por_municipio.sort_values('Total', ascending=False)\n",
        "print(ventas_por_municipio)"
      ],
      "metadata": {
        "colab": {
          "base_uri": "https://localhost:8080/"
        },
        "id": "lHFN9Ttg4VuI",
        "outputId": "14170deb-a731-493c-9cc9-5308a22b20d6"
      },
      "execution_count": null,
      "outputs": [
        {
          "output_type": "stream",
          "name": "stdout",
          "text": [
            "                                             Municipio  Cantidad      Total\n",
            "20                                        BUENAVENTURA      6101  473338512\n",
            "57                                              CUCUTA      3028  398243480\n",
            "206                          SANTA FÉ DE BOGOTA, D. C.      8337  395304923\n",
            "35   CARTAGENA (DISTRITO TURISTICO Y CULTURAL DE CA...      2858  177240071\n",
            "124                                          MANIZALES      2606  132995820\n",
            "..                                                 ...       ...        ...\n",
            "52                                           CIMITARRA       561          0\n",
            "50                                            CHOCONTA       109          0\n",
            "208                                 SANTA ROSA DEL SUR       737          0\n",
            "209                             SANTANDER DE QUILICHAO      3689          0\n",
            "245                                          ZIPAQUIRA        77          0\n",
            "\n",
            "[246 rows x 3 columns]\n"
          ]
        }
      ]
    },
    {
      "cell_type": "code",
      "source": [
        "precios_unicos_por_municipio = df.groupby(['Municipio', 'TipoCilindro'])['PrecioCilindro'].nunique().reset_index()\n",
        "precios_unicos_por_municipio.rename(columns={'PrecioCilindro': 'CantidadPreciosUnicos'}, inplace=True)\n",
        "precios_unicos_por_municipio.rename(columns={'PrecioCilindro': 'CantidadPreciosUnicos'}, inplace=True)\n",
        "precios_unicos_por_municipio = precios_unicos_por_municipio.sort_values('CantidadPreciosUnicos', ascending=False)\n"
      ],
      "metadata": {
        "id": "THhHKZAuEa5V"
      },
      "execution_count": null,
      "outputs": []
    },
    {
      "cell_type": "code",
      "source": [
        "precios_unicos_por_municipio.head(10)"
      ],
      "metadata": {
        "colab": {
          "base_uri": "https://localhost:8080/",
          "height": 363
        },
        "id": "BNFSQeHaFN2y",
        "outputId": "3b6c429e-6ad6-4505-e0e1-db29c5aefdcc"
      },
      "execution_count": null,
      "outputs": [
        {
          "output_type": "execute_result",
          "data": {
            "text/plain": [
              "                     Municipio  TipoCilindro  CantidadPreciosUnicos\n",
              "409                    PALMIRA  CL  DE 18 KG                     49\n",
              "557  SANTA FÉ DE BOGOTA, D. C.  CL  DE 18 KG                     32\n",
              "73     CALI (SANTIAGO DE CALI)  CL  DE 18 KG                     30\n",
              "446                    POPAYAN  CL  DE 18 KG                     29\n",
              "412                    PALMIRA   CL DE 45 KG                     29\n",
              "276                    JAMUNDI  CL  DE 18 KG                     26\n",
              "560  SANTA FÉ DE BOGOTA, D. C.   CL DE 45 KG                     26\n",
              "335                  MANIZALES   CL DE 15 KG                     22\n",
              "559  SANTA FÉ DE BOGOTA, D. C.   CL DE 15 KG                     22\n",
              "336                  MANIZALES   CL DE 45 KG                     21"
            ],
            "text/html": [
              "\n",
              "  <div id=\"df-8003daac-2ae2-41ab-860e-7d670024cdf5\">\n",
              "    <div class=\"colab-df-container\">\n",
              "      <div>\n",
              "<style scoped>\n",
              "    .dataframe tbody tr th:only-of-type {\n",
              "        vertical-align: middle;\n",
              "    }\n",
              "\n",
              "    .dataframe tbody tr th {\n",
              "        vertical-align: top;\n",
              "    }\n",
              "\n",
              "    .dataframe thead th {\n",
              "        text-align: right;\n",
              "    }\n",
              "</style>\n",
              "<table border=\"1\" class=\"dataframe\">\n",
              "  <thead>\n",
              "    <tr style=\"text-align: right;\">\n",
              "      <th></th>\n",
              "      <th>Municipio</th>\n",
              "      <th>TipoCilindro</th>\n",
              "      <th>CantidadPreciosUnicos</th>\n",
              "    </tr>\n",
              "  </thead>\n",
              "  <tbody>\n",
              "    <tr>\n",
              "      <th>409</th>\n",
              "      <td>PALMIRA</td>\n",
              "      <td>CL  DE 18 KG</td>\n",
              "      <td>49</td>\n",
              "    </tr>\n",
              "    <tr>\n",
              "      <th>557</th>\n",
              "      <td>SANTA FÉ DE BOGOTA, D. C.</td>\n",
              "      <td>CL  DE 18 KG</td>\n",
              "      <td>32</td>\n",
              "    </tr>\n",
              "    <tr>\n",
              "      <th>73</th>\n",
              "      <td>CALI (SANTIAGO DE CALI)</td>\n",
              "      <td>CL  DE 18 KG</td>\n",
              "      <td>30</td>\n",
              "    </tr>\n",
              "    <tr>\n",
              "      <th>446</th>\n",
              "      <td>POPAYAN</td>\n",
              "      <td>CL  DE 18 KG</td>\n",
              "      <td>29</td>\n",
              "    </tr>\n",
              "    <tr>\n",
              "      <th>412</th>\n",
              "      <td>PALMIRA</td>\n",
              "      <td>CL DE 45 KG</td>\n",
              "      <td>29</td>\n",
              "    </tr>\n",
              "    <tr>\n",
              "      <th>276</th>\n",
              "      <td>JAMUNDI</td>\n",
              "      <td>CL  DE 18 KG</td>\n",
              "      <td>26</td>\n",
              "    </tr>\n",
              "    <tr>\n",
              "      <th>560</th>\n",
              "      <td>SANTA FÉ DE BOGOTA, D. C.</td>\n",
              "      <td>CL DE 45 KG</td>\n",
              "      <td>26</td>\n",
              "    </tr>\n",
              "    <tr>\n",
              "      <th>335</th>\n",
              "      <td>MANIZALES</td>\n",
              "      <td>CL DE 15 KG</td>\n",
              "      <td>22</td>\n",
              "    </tr>\n",
              "    <tr>\n",
              "      <th>559</th>\n",
              "      <td>SANTA FÉ DE BOGOTA, D. C.</td>\n",
              "      <td>CL DE 15 KG</td>\n",
              "      <td>22</td>\n",
              "    </tr>\n",
              "    <tr>\n",
              "      <th>336</th>\n",
              "      <td>MANIZALES</td>\n",
              "      <td>CL DE 45 KG</td>\n",
              "      <td>21</td>\n",
              "    </tr>\n",
              "  </tbody>\n",
              "</table>\n",
              "</div>\n",
              "      <button class=\"colab-df-convert\" onclick=\"convertToInteractive('df-8003daac-2ae2-41ab-860e-7d670024cdf5')\"\n",
              "              title=\"Convert this dataframe to an interactive table.\"\n",
              "              style=\"display:none;\">\n",
              "        \n",
              "  <svg xmlns=\"http://www.w3.org/2000/svg\" height=\"24px\"viewBox=\"0 0 24 24\"\n",
              "       width=\"24px\">\n",
              "    <path d=\"M0 0h24v24H0V0z\" fill=\"none\"/>\n",
              "    <path d=\"M18.56 5.44l.94 2.06.94-2.06 2.06-.94-2.06-.94-.94-2.06-.94 2.06-2.06.94zm-11 1L8.5 8.5l.94-2.06 2.06-.94-2.06-.94L8.5 2.5l-.94 2.06-2.06.94zm10 10l.94 2.06.94-2.06 2.06-.94-2.06-.94-.94-2.06-.94 2.06-2.06.94z\"/><path d=\"M17.41 7.96l-1.37-1.37c-.4-.4-.92-.59-1.43-.59-.52 0-1.04.2-1.43.59L10.3 9.45l-7.72 7.72c-.78.78-.78 2.05 0 2.83L4 21.41c.39.39.9.59 1.41.59.51 0 1.02-.2 1.41-.59l7.78-7.78 2.81-2.81c.8-.78.8-2.07 0-2.86zM5.41 20L4 18.59l7.72-7.72 1.47 1.35L5.41 20z\"/>\n",
              "  </svg>\n",
              "      </button>\n",
              "      \n",
              "  <style>\n",
              "    .colab-df-container {\n",
              "      display:flex;\n",
              "      flex-wrap:wrap;\n",
              "      gap: 12px;\n",
              "    }\n",
              "\n",
              "    .colab-df-convert {\n",
              "      background-color: #E8F0FE;\n",
              "      border: none;\n",
              "      border-radius: 50%;\n",
              "      cursor: pointer;\n",
              "      display: none;\n",
              "      fill: #1967D2;\n",
              "      height: 32px;\n",
              "      padding: 0 0 0 0;\n",
              "      width: 32px;\n",
              "    }\n",
              "\n",
              "    .colab-df-convert:hover {\n",
              "      background-color: #E2EBFA;\n",
              "      box-shadow: 0px 1px 2px rgba(60, 64, 67, 0.3), 0px 1px 3px 1px rgba(60, 64, 67, 0.15);\n",
              "      fill: #174EA6;\n",
              "    }\n",
              "\n",
              "    [theme=dark] .colab-df-convert {\n",
              "      background-color: #3B4455;\n",
              "      fill: #D2E3FC;\n",
              "    }\n",
              "\n",
              "    [theme=dark] .colab-df-convert:hover {\n",
              "      background-color: #434B5C;\n",
              "      box-shadow: 0px 1px 3px 1px rgba(0, 0, 0, 0.15);\n",
              "      filter: drop-shadow(0px 1px 2px rgba(0, 0, 0, 0.3));\n",
              "      fill: #FFFFFF;\n",
              "    }\n",
              "  </style>\n",
              "\n",
              "      <script>\n",
              "        const buttonEl =\n",
              "          document.querySelector('#df-8003daac-2ae2-41ab-860e-7d670024cdf5 button.colab-df-convert');\n",
              "        buttonEl.style.display =\n",
              "          google.colab.kernel.accessAllowed ? 'block' : 'none';\n",
              "\n",
              "        async function convertToInteractive(key) {\n",
              "          const element = document.querySelector('#df-8003daac-2ae2-41ab-860e-7d670024cdf5');\n",
              "          const dataTable =\n",
              "            await google.colab.kernel.invokeFunction('convertToInteractive',\n",
              "                                                     [key], {});\n",
              "          if (!dataTable) return;\n",
              "\n",
              "          const docLinkHtml = 'Like what you see? Visit the ' +\n",
              "            '<a target=\"_blank\" href=https://colab.research.google.com/notebooks/data_table.ipynb>data table notebook</a>'\n",
              "            + ' to learn more about interactive tables.';\n",
              "          element.innerHTML = '';\n",
              "          dataTable['output_type'] = 'display_data';\n",
              "          await google.colab.output.renderOutput(dataTable, element);\n",
              "          const docLink = document.createElement('div');\n",
              "          docLink.innerHTML = docLinkHtml;\n",
              "          element.appendChild(docLink);\n",
              "        }\n",
              "      </script>\n",
              "    </div>\n",
              "  </div>\n",
              "  "
            ]
          },
          "metadata": {},
          "execution_count": 75
        }
      ]
    },
    {
      "cell_type": "code",
      "source": [
        "precios_unicos = df.groupby(['Municipio', 'TipoCilindro'])['PrecioCilindro'].unique().reset_index()\n",
        "df_expandido = precios_unicos.explode('PrecioCilindro')\n",
        "df_expandido['N° precio'] = df_expandido.groupby(['Municipio', 'TipoCilindro']).cumcount() + 1\n",
        "df_expandido.rename(columns={'PrecioCilindro': 'Monto del precio'}, inplace=True)\n",
        "df_expandido"
      ],
      "metadata": {
        "colab": {
          "base_uri": "https://localhost:8080/",
          "height": 664
        },
        "id": "xcZTKexIEgDv",
        "outputId": "4701781e-dcb8-42dd-bfdc-8f642297a474"
      },
      "execution_count": null,
      "outputs": [
        {
          "output_type": "execute_result",
          "data": {
            "text/plain": [
              "     Municipio  TipoCilindro Monto del precio  N° precio\n",
              "0    ABEJORRAL  CL  DE 18 KG            65000          1\n",
              "1    ABEJORRAL   CL DE 15 KG            54800          1\n",
              "2    ABEJORRAL   CL DE 45 KG           165500          1\n",
              "3    AGUACHICA  CL  DE 18 KG                0          1\n",
              "4    AGUACHICA   CL DE 15 KG                0          1\n",
              "..         ...           ...              ...        ...\n",
              "654   ZARAGOZA   CL DE 45 KG           168200          2\n",
              "654   ZARAGOZA   CL DE 45 KG           169000          3\n",
              "655     ZARZAL  CL  DE 18 KG                0          1\n",
              "656  ZIPAQUIRA  CL  DE 18 KG                0          1\n",
              "657  ZIPAQUIRA   CL DE 15 KG                0          1\n",
              "\n",
              "[2139 rows x 4 columns]"
            ],
            "text/html": [
              "\n",
              "  <div id=\"df-5e156092-aedc-4a56-92e7-7eba26404ca7\">\n",
              "    <div class=\"colab-df-container\">\n",
              "      <div>\n",
              "<style scoped>\n",
              "    .dataframe tbody tr th:only-of-type {\n",
              "        vertical-align: middle;\n",
              "    }\n",
              "\n",
              "    .dataframe tbody tr th {\n",
              "        vertical-align: top;\n",
              "    }\n",
              "\n",
              "    .dataframe thead th {\n",
              "        text-align: right;\n",
              "    }\n",
              "</style>\n",
              "<table border=\"1\" class=\"dataframe\">\n",
              "  <thead>\n",
              "    <tr style=\"text-align: right;\">\n",
              "      <th></th>\n",
              "      <th>Municipio</th>\n",
              "      <th>TipoCilindro</th>\n",
              "      <th>Monto del precio</th>\n",
              "      <th>N° precio</th>\n",
              "    </tr>\n",
              "  </thead>\n",
              "  <tbody>\n",
              "    <tr>\n",
              "      <th>0</th>\n",
              "      <td>ABEJORRAL</td>\n",
              "      <td>CL  DE 18 KG</td>\n",
              "      <td>65000</td>\n",
              "      <td>1</td>\n",
              "    </tr>\n",
              "    <tr>\n",
              "      <th>1</th>\n",
              "      <td>ABEJORRAL</td>\n",
              "      <td>CL DE 15 KG</td>\n",
              "      <td>54800</td>\n",
              "      <td>1</td>\n",
              "    </tr>\n",
              "    <tr>\n",
              "      <th>2</th>\n",
              "      <td>ABEJORRAL</td>\n",
              "      <td>CL DE 45 KG</td>\n",
              "      <td>165500</td>\n",
              "      <td>1</td>\n",
              "    </tr>\n",
              "    <tr>\n",
              "      <th>3</th>\n",
              "      <td>AGUACHICA</td>\n",
              "      <td>CL  DE 18 KG</td>\n",
              "      <td>0</td>\n",
              "      <td>1</td>\n",
              "    </tr>\n",
              "    <tr>\n",
              "      <th>4</th>\n",
              "      <td>AGUACHICA</td>\n",
              "      <td>CL DE 15 KG</td>\n",
              "      <td>0</td>\n",
              "      <td>1</td>\n",
              "    </tr>\n",
              "    <tr>\n",
              "      <th>...</th>\n",
              "      <td>...</td>\n",
              "      <td>...</td>\n",
              "      <td>...</td>\n",
              "      <td>...</td>\n",
              "    </tr>\n",
              "    <tr>\n",
              "      <th>654</th>\n",
              "      <td>ZARAGOZA</td>\n",
              "      <td>CL DE 45 KG</td>\n",
              "      <td>168200</td>\n",
              "      <td>2</td>\n",
              "    </tr>\n",
              "    <tr>\n",
              "      <th>654</th>\n",
              "      <td>ZARAGOZA</td>\n",
              "      <td>CL DE 45 KG</td>\n",
              "      <td>169000</td>\n",
              "      <td>3</td>\n",
              "    </tr>\n",
              "    <tr>\n",
              "      <th>655</th>\n",
              "      <td>ZARZAL</td>\n",
              "      <td>CL  DE 18 KG</td>\n",
              "      <td>0</td>\n",
              "      <td>1</td>\n",
              "    </tr>\n",
              "    <tr>\n",
              "      <th>656</th>\n",
              "      <td>ZIPAQUIRA</td>\n",
              "      <td>CL  DE 18 KG</td>\n",
              "      <td>0</td>\n",
              "      <td>1</td>\n",
              "    </tr>\n",
              "    <tr>\n",
              "      <th>657</th>\n",
              "      <td>ZIPAQUIRA</td>\n",
              "      <td>CL DE 15 KG</td>\n",
              "      <td>0</td>\n",
              "      <td>1</td>\n",
              "    </tr>\n",
              "  </tbody>\n",
              "</table>\n",
              "<p>2139 rows × 4 columns</p>\n",
              "</div>\n",
              "      <button class=\"colab-df-convert\" onclick=\"convertToInteractive('df-5e156092-aedc-4a56-92e7-7eba26404ca7')\"\n",
              "              title=\"Convert this dataframe to an interactive table.\"\n",
              "              style=\"display:none;\">\n",
              "        \n",
              "  <svg xmlns=\"http://www.w3.org/2000/svg\" height=\"24px\"viewBox=\"0 0 24 24\"\n",
              "       width=\"24px\">\n",
              "    <path d=\"M0 0h24v24H0V0z\" fill=\"none\"/>\n",
              "    <path d=\"M18.56 5.44l.94 2.06.94-2.06 2.06-.94-2.06-.94-.94-2.06-.94 2.06-2.06.94zm-11 1L8.5 8.5l.94-2.06 2.06-.94-2.06-.94L8.5 2.5l-.94 2.06-2.06.94zm10 10l.94 2.06.94-2.06 2.06-.94-2.06-.94-.94-2.06-.94 2.06-2.06.94z\"/><path d=\"M17.41 7.96l-1.37-1.37c-.4-.4-.92-.59-1.43-.59-.52 0-1.04.2-1.43.59L10.3 9.45l-7.72 7.72c-.78.78-.78 2.05 0 2.83L4 21.41c.39.39.9.59 1.41.59.51 0 1.02-.2 1.41-.59l7.78-7.78 2.81-2.81c.8-.78.8-2.07 0-2.86zM5.41 20L4 18.59l7.72-7.72 1.47 1.35L5.41 20z\"/>\n",
              "  </svg>\n",
              "      </button>\n",
              "      \n",
              "  <style>\n",
              "    .colab-df-container {\n",
              "      display:flex;\n",
              "      flex-wrap:wrap;\n",
              "      gap: 12px;\n",
              "    }\n",
              "\n",
              "    .colab-df-convert {\n",
              "      background-color: #E8F0FE;\n",
              "      border: none;\n",
              "      border-radius: 50%;\n",
              "      cursor: pointer;\n",
              "      display: none;\n",
              "      fill: #1967D2;\n",
              "      height: 32px;\n",
              "      padding: 0 0 0 0;\n",
              "      width: 32px;\n",
              "    }\n",
              "\n",
              "    .colab-df-convert:hover {\n",
              "      background-color: #E2EBFA;\n",
              "      box-shadow: 0px 1px 2px rgba(60, 64, 67, 0.3), 0px 1px 3px 1px rgba(60, 64, 67, 0.15);\n",
              "      fill: #174EA6;\n",
              "    }\n",
              "\n",
              "    [theme=dark] .colab-df-convert {\n",
              "      background-color: #3B4455;\n",
              "      fill: #D2E3FC;\n",
              "    }\n",
              "\n",
              "    [theme=dark] .colab-df-convert:hover {\n",
              "      background-color: #434B5C;\n",
              "      box-shadow: 0px 1px 3px 1px rgba(0, 0, 0, 0.15);\n",
              "      filter: drop-shadow(0px 1px 2px rgba(0, 0, 0, 0.3));\n",
              "      fill: #FFFFFF;\n",
              "    }\n",
              "  </style>\n",
              "\n",
              "      <script>\n",
              "        const buttonEl =\n",
              "          document.querySelector('#df-5e156092-aedc-4a56-92e7-7eba26404ca7 button.colab-df-convert');\n",
              "        buttonEl.style.display =\n",
              "          google.colab.kernel.accessAllowed ? 'block' : 'none';\n",
              "\n",
              "        async function convertToInteractive(key) {\n",
              "          const element = document.querySelector('#df-5e156092-aedc-4a56-92e7-7eba26404ca7');\n",
              "          const dataTable =\n",
              "            await google.colab.kernel.invokeFunction('convertToInteractive',\n",
              "                                                     [key], {});\n",
              "          if (!dataTable) return;\n",
              "\n",
              "          const docLinkHtml = 'Like what you see? Visit the ' +\n",
              "            '<a target=\"_blank\" href=https://colab.research.google.com/notebooks/data_table.ipynb>data table notebook</a>'\n",
              "            + ' to learn more about interactive tables.';\n",
              "          element.innerHTML = '';\n",
              "          dataTable['output_type'] = 'display_data';\n",
              "          await google.colab.output.renderOutput(dataTable, element);\n",
              "          const docLink = document.createElement('div');\n",
              "          docLink.innerHTML = docLinkHtml;\n",
              "          element.appendChild(docLink);\n",
              "        }\n",
              "      </script>\n",
              "    </div>\n",
              "  </div>\n",
              "  "
            ]
          },
          "metadata": {},
          "execution_count": 68
        }
      ]
    },
    {
      "cell_type": "code",
      "source": [
        "ventas_cero = df.query('Total == 0')\n",
        "cilindros_vendidos_cero_total = ventas_cero.groupby('Municipio').agg({'Cantidad': 'sum'}).reset_index()\n",
        "total_cantidad = cilindros_vendidos_cero_total['Cantidad'].sum()\n",
        "print(cilindros_vendidos_cero_total)\n",
        "print(total_cantidad)"
      ],
      "metadata": {
        "colab": {
          "base_uri": "https://localhost:8080/"
        },
        "id": "1DNf-AHX4q0P",
        "outputId": "cd196e5f-d73f-4d86-b2b8-8e6aa63e454c"
      },
      "execution_count": null,
      "outputs": [
        {
          "output_type": "stream",
          "name": "stdout",
          "text": [
            "         Municipio  Cantidad\n",
            "0        AGUACHICA      3209\n",
            "1            ANDES       361\n",
            "2     ANSERMANUEVO       161\n",
            "3          ARMENIA       107\n",
            "4           AYAPEL       518\n",
            "..             ...       ...\n",
            "97   VILLAVICENCIO       194\n",
            "98         VILLETA        10\n",
            "99           YUMBO      1968\n",
            "100         ZARZAL        27\n",
            "101      ZIPAQUIRA        77\n",
            "\n",
            "[102 rows x 2 columns]\n",
            "62703\n"
          ]
        }
      ]
    },
    {
      "cell_type": "code",
      "source": [
        "ventas_por_id_aliado = df.groupby('IdAliado').agg({'Cantidad': 'sum', 'Total': 'sum'}).reset_index()\n",
        "ventas_por_id_aliado = ventas_por_id_aliado.sort_values('Total', ascending=False)\n",
        "print(ventas_por_id_aliado)"
      ],
      "metadata": {
        "colab": {
          "base_uri": "https://localhost:8080/"
        },
        "id": "gOxDYDR048lo",
        "outputId": "bb980aa6-6525-4661-f1bf-cf468a7d783e"
      },
      "execution_count": null,
      "outputs": [
        {
          "output_type": "stream",
          "name": "stdout",
          "text": [
            "     IdAliado  Cantidad      Total\n",
            "79   39751090      3370  425168960\n",
            "140  73961111      3276  255594510\n",
            "164  93131666      2918  228853536\n",
            "147  76931111      2366  182096777\n",
            "101  53158827      2570  180016333\n",
            "..        ...       ...        ...\n",
            "137  72641069       115          0\n",
            "138  73331066       817          0\n",
            "36   14191605      1862          0\n",
            "175  98911054        21          0\n",
            "26    9681025      2239     -87374\n",
            "\n",
            "[176 rows x 3 columns]\n"
          ]
        }
      ]
    },
    {
      "cell_type": "code",
      "source": [
        "ventas_por_tipo_cilindro = df.groupby('TipoCilindro').agg({'Cantidad': 'sum', 'Total': 'sum'}).reset_index()\n",
        "ventas_por_tipo_cilindro = ventas_por_tipo_cilindro.sort_values('Total', ascending=False)\n",
        "print(ventas_por_tipo_cilindro)\n"
      ],
      "metadata": {
        "colab": {
          "base_uri": "https://localhost:8080/"
        },
        "id": "v4P9llQM7pEO",
        "outputId": "d2aea89e-41d2-4af5-e95a-0f18c6aaeab6"
      },
      "execution_count": null,
      "outputs": [
        {
          "output_type": "stream",
          "name": "stdout",
          "text": [
            "   TipoCilindro  Cantidad       Total\n",
            "0  CL  DE 18 KG     72428  2282784656\n",
            "2   CL DE 15 KG     44210  1676757867\n",
            "5   CL DE 45 KG      9431  1038509458\n",
            "6    CL DE 9 KG      1534    44885644\n",
            "4  CL DE 4.5 KG       380     4400644\n",
            "1   CL DE 10 KG        14      256883\n",
            "3   CL DE 35 KG         3      153000\n"
          ]
        }
      ]
    }
  ]
}